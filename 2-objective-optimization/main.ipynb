{
 "cells": [
  {
   "attachments": {},
   "cell_type": "markdown",
   "metadata": {},
   "source": [
    "$$ min f(x) = \\begin{bmatrix}\n",
    "f_1 (x) = x_1 ^ 2 - x_1 x_2 + x_2 ^ 2 - x_1 - x_2 + 1 \\\\\n",
    "f_2(x) = x_1 ^ 2 + x_1 x_2 + x_2 ^ 2 + 2 x_1 + 4 x_2 + 4 \\\\\n",
    "\\end{bmatrix}$$"
   ]
  },
  {
   "cell_type": "code",
   "execution_count": 2,
   "metadata": {},
   "outputs": [],
   "source": [
    "import numpy as np"
   ]
  },
  {
   "cell_type": "code",
   "execution_count": 4,
   "metadata": {},
   "outputs": [],
   "source": [
    "def f_1(x):\n",
    "    return x[0] ** 2 - x[0] * x[1] + x[1] ** 2 - x[0] - x[1] + 1\n",
    "\n",
    "def f_2(x):\n",
    "    return x[0] ** 2 + x[1] ** 2 + x[0] * x[1] + 2 * x[0] + 4 * x[1] + 4\n",
    "\n",
    "ws = np.array([i / 100 for i in range(101)]) # 0 <= w <= 1\n",
    "\n",
    "def f(x):\n",
    "    return min(f_1(x), f_2(x))\n",
    "\n",
    "def f_functional(x):\n",
    "    return f_1(x) if f_1(x) < f_2(x) else f_2(x)\n",
    "\n",
    "def f_min_index(x):\n",
    "    return 1 if f_1(x) < f_2(x) else 2\n",
    "\n",
    "def hessian(f, x):\n",
    "    if f_min_index(x) == 1:\n",
    "        return np.array([[2, -1], [-1, 2]])\n",
    "    else:\n",
    "        return np.array([[2, 1], [1, 2]])\n",
    "\n"
   ]
  },
  {
   "cell_type": "markdown",
   "metadata": {},
   "source": []
  },
  {
   "cell_type": "code",
   "execution_count": 5,
   "metadata": {},
   "outputs": [],
   "source": [
    "def liner_weighted_sum(x, w_1):\n",
    "    w_2 = 1 - w_1\n",
    "    return w_1 * f_1(x) + w_2 * f_2(x)\n",
    "\n",
    "def newton_method(f, x_0, epsilon):\n",
    "    x = x_0 # initial value (0, 0)\n",
    "    while True:\n",
    "        x_new = x - np.linalg.inv(hessian(f, x, w)).dot(gradient(f, x, w))\n",
    "        if np.linalg.norm(x_new - x) < epsilon: # |grad(f(x))| == 0\n",
    "            return x_new\n",
    "        x = x_new # update x\n"
   ]
  },
  {
   "cell_type": "code",
   "execution_count": 7,
   "metadata": {},
   "outputs": [
    {
     "name": "stdout",
     "output_type": "stream",
     "text": [
      "w=0.00, x=[1. 1.], f(x)=0.0\n",
      "w=0.01, x=[1. 1.], f(x)=0.0\n",
      "w=0.02, x=[1. 1.], f(x)=0.0\n",
      "w=0.03, x=[1. 1.], f(x)=0.0\n",
      "w=0.04, x=[1. 1.], f(x)=0.0\n",
      "w=0.05, x=[1. 1.], f(x)=0.0\n",
      "w=0.06, x=[1. 1.], f(x)=0.0\n",
      "w=0.07, x=[1. 1.], f(x)=0.0\n",
      "w=0.08, x=[1. 1.], f(x)=0.0\n",
      "w=0.09, x=[1. 1.], f(x)=0.0\n",
      "w=0.10, x=[1. 1.], f(x)=0.0\n",
      "w=0.11, x=[1. 1.], f(x)=0.0\n",
      "w=0.12, x=[1. 1.], f(x)=0.0\n",
      "w=0.13, x=[1. 1.], f(x)=0.0\n",
      "w=0.14, x=[1. 1.], f(x)=0.0\n",
      "w=0.15, x=[1. 1.], f(x)=0.0\n",
      "w=0.16, x=[1. 1.], f(x)=0.0\n",
      "w=0.17, x=[1. 1.], f(x)=0.0\n",
      "w=0.18, x=[1. 1.], f(x)=0.0\n",
      "w=0.19, x=[1. 1.], f(x)=0.0\n",
      "w=0.20, x=[1. 1.], f(x)=0.0\n",
      "w=0.21, x=[1. 1.], f(x)=0.0\n",
      "w=0.22, x=[1. 1.], f(x)=0.0\n",
      "w=0.23, x=[1. 1.], f(x)=0.0\n",
      "w=0.24, x=[1. 1.], f(x)=0.0\n",
      "w=0.25, x=[1. 1.], f(x)=0.0\n",
      "w=0.26, x=[1. 1.], f(x)=0.0\n",
      "w=0.27, x=[1. 1.], f(x)=0.0\n",
      "w=0.28, x=[1. 1.], f(x)=0.0\n",
      "w=0.29, x=[1. 1.], f(x)=0.0\n",
      "w=0.30, x=[1. 1.], f(x)=0.0\n",
      "w=0.31, x=[1. 1.], f(x)=0.0\n",
      "w=0.32, x=[1. 1.], f(x)=0.0\n",
      "w=0.33, x=[1. 1.], f(x)=0.0\n",
      "w=0.34, x=[1. 1.], f(x)=0.0\n",
      "w=0.35, x=[1. 1.], f(x)=0.0\n",
      "w=0.36, x=[1. 1.], f(x)=0.0\n",
      "w=0.37, x=[1. 1.], f(x)=0.0\n",
      "w=0.38, x=[1. 1.], f(x)=0.0\n",
      "w=0.39, x=[1. 1.], f(x)=0.0\n",
      "w=0.40, x=[1. 1.], f(x)=0.0\n",
      "w=0.41, x=[1. 1.], f(x)=0.0\n",
      "w=0.42, x=[1. 1.], f(x)=0.0\n",
      "w=0.43, x=[1. 1.], f(x)=0.0\n",
      "w=0.44, x=[1. 1.], f(x)=0.0\n",
      "w=0.45, x=[1. 1.], f(x)=0.0\n",
      "w=0.46, x=[1. 1.], f(x)=0.0\n",
      "w=0.47, x=[1. 1.], f(x)=0.0\n",
      "w=0.48, x=[1. 1.], f(x)=0.0\n",
      "w=0.49, x=[1. 1.], f(x)=0.0\n",
      "w=0.50, x=[1. 1.], f(x)=0.0\n",
      "w=0.51, x=[1. 1.], f(x)=0.0\n",
      "w=0.52, x=[1. 1.], f(x)=0.0\n",
      "w=0.53, x=[1. 1.], f(x)=0.0\n",
      "w=0.54, x=[1. 1.], f(x)=0.0\n",
      "w=0.55, x=[1. 1.], f(x)=0.0\n",
      "w=0.56, x=[1. 1.], f(x)=0.0\n",
      "w=0.57, x=[1. 1.], f(x)=0.0\n",
      "w=0.58, x=[1. 1.], f(x)=0.0\n",
      "w=0.59, x=[1. 1.], f(x)=0.0\n",
      "w=0.60, x=[1. 1.], f(x)=0.0\n",
      "w=0.61, x=[1. 1.], f(x)=0.0\n",
      "w=0.62, x=[1. 1.], f(x)=0.0\n",
      "w=0.63, x=[1. 1.], f(x)=0.0\n",
      "w=0.64, x=[1. 1.], f(x)=0.0\n",
      "w=0.65, x=[1. 1.], f(x)=0.0\n",
      "w=0.66, x=[1. 1.], f(x)=0.0\n",
      "w=0.67, x=[1. 1.], f(x)=0.0\n",
      "w=0.68, x=[1. 1.], f(x)=0.0\n",
      "w=0.69, x=[1. 1.], f(x)=0.0\n",
      "w=0.70, x=[1. 1.], f(x)=0.0\n",
      "w=0.71, x=[1. 1.], f(x)=0.0\n",
      "w=0.72, x=[1. 1.], f(x)=0.0\n",
      "w=0.73, x=[1. 1.], f(x)=0.0\n",
      "w=0.74, x=[1. 1.], f(x)=0.0\n",
      "w=0.75, x=[1. 1.], f(x)=0.0\n",
      "w=0.76, x=[1. 1.], f(x)=0.0\n",
      "w=0.77, x=[1. 1.], f(x)=0.0\n",
      "w=0.78, x=[1. 1.], f(x)=0.0\n",
      "w=0.79, x=[1. 1.], f(x)=0.0\n",
      "w=0.80, x=[1. 1.], f(x)=0.0\n",
      "w=0.81, x=[1. 1.], f(x)=0.0\n",
      "w=0.82, x=[1. 1.], f(x)=0.0\n",
      "w=0.83, x=[1. 1.], f(x)=0.0\n",
      "w=0.84, x=[1. 1.], f(x)=0.0\n",
      "w=0.85, x=[1. 1.], f(x)=0.0\n",
      "w=0.86, x=[1. 1.], f(x)=0.0\n",
      "w=0.87, x=[1. 1.], f(x)=0.0\n",
      "w=0.88, x=[1. 1.], f(x)=0.0\n",
      "w=0.89, x=[1. 1.], f(x)=0.0\n",
      "w=0.90, x=[1. 1.], f(x)=0.0\n",
      "w=0.91, x=[1. 1.], f(x)=0.0\n",
      "w=0.92, x=[1. 1.], f(x)=0.0\n",
      "w=0.93, x=[1. 1.], f(x)=0.0\n",
      "w=0.94, x=[1. 1.], f(x)=0.0\n",
      "w=0.95, x=[1. 1.], f(x)=0.0\n",
      "w=0.96, x=[1. 1.], f(x)=0.0\n",
      "w=0.97, x=[1. 1.], f(x)=0.0\n",
      "w=0.98, x=[1. 1.], f(x)=0.0\n",
      "w=0.99, x=[1. 1.], f(x)=0.0\n",
      "w=1.00, x=[1. 1.], f(x)=0.0\n"
     ]
    },
    {
     "data": {
      "image/png": "[encoded data removed]",
      "text/plain": [
       "<Figure size 432x288 with 1 Axes>"
      ]
     },
     "metadata": {
      "needs_background": "light"
     },
     "output_type": "display_data"
    }
   ],
   "source": [
    "import matplotlib.pyplot as plt\n",
    "\n",
    "for w in ws:\n",
    "    x = newton_method(lambda x: liner_weighted_sum(x, w), np.array([0, 0]), 0.0001)\n",
    "    plt.scatter(x[0], x[1], c='blue')\n",
    "    plt.text(x[0], x[1], f'w={w:.2f}')\n",
    "    print(f'w={w:.2f}, x={x}, f(x)={f(x)}')\n",
    "\n",
    "plt.show()"
   ]
  },
  {
   "attachments": {},
   "cell_type": "markdown",
   "metadata": {},
   "source": [
    "$$\n",
    "\n",
    "$$"
   ]
  }
 ],
 "metadata": {
  "kernelspec": {
   "display_name": "Python 3",
   "language": "python",
   "name": "python3"
  },
  "language_info": {
   "codemirror_mode": {
    "name": "ipython",
    "version": 3
   },
   "file_extension": ".py",
   "mimetype": "text/x-python",
   "name": "python",
   "nbconvert_exporter": "python",
   "pygments_lexer": "ipython3",
   "version": "3.10.3 (main, Jun 17 2022, 16:49:37) [Clang 13.1.6 (clang-1316.0.21.2.5)]"
  },
  "orig_nbformat": 4,
  "vscode": {
   "interpreter": {
    "hash": "7390783ece51d3d4fbc38887ec37411a5de5371e28193b2830f6ea6ed23ebd16"
   }
  }
 },
 "nbformat": 4,
 "nbformat_minor": 2
}
